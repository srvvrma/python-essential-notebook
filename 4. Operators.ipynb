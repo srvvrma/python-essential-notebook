{
 "cells": [
  {
   "cell_type": "markdown",
   "metadata": {},
   "source": [
    "# 4 Operators"
   ]
  },
  {
   "cell_type": "markdown",
   "metadata": {},
   "source": [
    "**4.1 Airthmetic Operator**"
   ]
  },
  {
   "cell_type": "code",
   "execution_count": 30,
   "metadata": {},
   "outputs": [
    {
     "name": "stdout",
     "output_type": "stream",
     "text": [
      "x + y = 11\n",
      "x - y = -1\n",
      "x * y = 30\n",
      "x / y = 0.8333333333333334\n",
      "x // y = 0\n",
      "x % y = 5\n",
      "-2\n"
     ]
    }
   ],
   "source": [
    "# Arthmetic Operator\n",
    "\n",
    "x = 5\n",
    "y = 6\n",
    "\n",
    "print('x + y = {}'.format(x+y))\n",
    "print('x - y = {}'.format(x-y))\n",
    "print('x * y = {}'.format(x*y))\n",
    "print('x / y = {}'.format(x/y))\n",
    "print('x // y = {}'.format(x//y))\n",
    "print('x % y = {}'.format(x%y))\n",
    "\n",
    "z = -2\n",
    "z = +z\n",
    "print(z)\n"
   ]
  },
  {
   "cell_type": "markdown",
   "metadata": {},
   "source": [
    "**4.2 Bitwise Operator**"
   ]
  },
  {
   "cell_type": "code",
   "execution_count": 31,
   "metadata": {},
   "outputs": [
    {
     "name": "stdout",
     "output_type": "stream",
     "text": [
      "(hex) x is 0x0a and y is 0x02\n",
      "(bin) x is 00001010 and y is 0x00000010\n",
      "(bin) z is (a | b ) 00001010\n",
      "(bin) z is (a | b ) 00000010\n",
      "(bin) z is ( x << 1 ) 00010100\n"
     ]
    }
   ],
   "source": [
    "# Bitwise Operator\n",
    "\n",
    "# & | ^ << >>\n",
    "x = 0x0a\n",
    "y = 0x02\n",
    "\n",
    "print(f'(hex) x is 0x{x:02x} and y is 0x{y:02x}')\n",
    "print(f'(bin) x is {x:08b} and y is 0x{y:08b}')\n",
    "\n",
    "z = x | y\n",
    "print(f'(bin) z is (a | b ) {z:08b}')\n",
    "z = x & y\n",
    "print(f'(bin) z is (a | b ) {z:08b}')\n",
    "z = x << 1\n",
    "print(f'(bin) z is ( x << 1 ) {z:08b}')"
   ]
  },
  {
   "cell_type": "markdown",
   "metadata": {},
   "source": [
    "**4.3 Comparision Operator**"
   ]
  },
  {
   "cell_type": "code",
   "execution_count": 32,
   "metadata": {},
   "outputs": [
    {
     "name": "stdout",
     "output_type": "stream",
     "text": [
      "x is less than or equal y\n",
      "x is not equal to y\n"
     ]
    }
   ],
   "source": [
    "# Comparision Operator\n",
    "# < > <= >= == !=\n",
    "\n",
    "x = 3\n",
    "y = 5\n",
    "\n",
    "if x <= y:\n",
    "    print(\"x is less than or equal y\")\n",
    "    \n",
    "else:\n",
    "    print(\"x is not less than y\")\n",
    "\n",
    "if x != y:\n",
    "    print(\"x is not equal to y\")\n",
    "    \n",
    "else:\n",
    "    print(\"x is not less than y\")"
   ]
  },
  {
   "cell_type": "markdown",
   "metadata": {},
   "source": [
    "**4.4 Boolean Operator**"
   ]
  },
  {
   "cell_type": "code",
   "execution_count": 33,
   "metadata": {},
   "outputs": [
    {
     "name": "stdout",
     "output_type": "stream",
     "text": [
      " a and b is False\n",
      " a or b is True\n",
      " not b is True\n",
      "is y is in z : True\n",
      "4486491472\n",
      "4486491472\n"
     ]
    }
   ],
   "source": [
    "# Boolean Operator\n",
    "\n",
    "# and, or, not, in, not in, is ,is not \n",
    "\n",
    "a = True\n",
    "b = False\n",
    "\n",
    "x = ('one', 'two', 'three', 'four')\n",
    "y = 'two'\n",
    "\n",
    "print(' a and b is {}'.format(a and b))\n",
    "print(' a or b is {}'.format(a or b))\n",
    "print(' not b is {}'.format(not b))\n",
    "\n",
    "print('is y is in z : {}'.format(y in x))\n",
    "print(id(y))\n",
    "print(id(x[1]))\n"
   ]
  }
 ],
 "metadata": {
  "kernelspec": {
   "display_name": "Python 3",
   "language": "python",
   "name": "python3"
  },
  "language_info": {
   "codemirror_mode": {
    "name": "ipython",
    "version": 3
   },
   "file_extension": ".py",
   "mimetype": "text/x-python",
   "name": "python",
   "nbconvert_exporter": "python",
   "pygments_lexer": "ipython3",
   "version": "3.7.3"
  }
 },
 "nbformat": 4,
 "nbformat_minor": 2
}
