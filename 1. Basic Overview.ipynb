{
 "cells": [
  {
   "cell_type": "code",
   "execution_count": 1,
   "metadata": {},
   "outputs": [
    {
     "name": "stdout",
     "output_type": "stream",
     "text": [
      "The Zen of Python, by Tim Peters\n",
      "\n",
      "Beautiful is better than ugly.\n",
      "Explicit is better than implicit.\n",
      "Simple is better than complex.\n",
      "Complex is better than complicated.\n",
      "Flat is better than nested.\n",
      "Sparse is better than dense.\n",
      "Readability counts.\n",
      "Special cases aren't special enough to break the rules.\n",
      "Although practicality beats purity.\n",
      "Errors should never pass silently.\n",
      "Unless explicitly silenced.\n",
      "In the face of ambiguity, refuse the temptation to guess.\n",
      "There should be one-- and preferably only one --obvious way to do it.\n",
      "Although that way may not be obvious at first unless you're Dutch.\n",
      "Now is better than never.\n",
      "Although never is often better than *right* now.\n",
      "If the implementation is hard to explain, it's a bad idea.\n",
      "If the implementation is easy to explain, it may be a good idea.\n",
      "Namespaces are one honking great idea -- let's do more of those!\n"
     ]
    }
   ],
   "source": [
    "import this"
   ]
  },
  {
   "cell_type": "markdown",
   "metadata": {},
   "source": [
    "**1.1 Hello World!**"
   ]
  },
  {
   "cell_type": "code",
   "execution_count": 3,
   "metadata": {},
   "outputs": [
    {
     "name": "stdout",
     "output_type": "stream",
     "text": [
      "hello world!\n"
     ]
    }
   ],
   "source": [
    "# Starting with hello world!\n",
    "print(\"hello world!\")"
   ]
  },
  {
   "cell_type": "code",
   "execution_count": 29,
   "metadata": {},
   "outputs": [
    {
     "name": "stdout",
     "output_type": "stream",
     "text": [
      "Python versio is 3.7.3\n",
      "Python versio is 3.7.3\n"
     ]
    }
   ],
   "source": [
    "# Best template for python program. By having this conditional statement at the bottom that calls main, \n",
    "# it actually forces the interpreter to read the entire script before it executes any of the code. This \n",
    "# allows a more procedural style of programming, and it's because Python requires that a function is \n",
    "# defined before it's called.\n",
    "\n",
    "# Import plateform for printing the python version details\n",
    "import platform\n",
    "\n",
    "def main():\n",
    "    message()\n",
    "    \n",
    "def message():\n",
    "    print(\"Python versio is {}\".format(platform.python_version()))\n",
    "    version = platform.python_version();\n",
    "    print(f\"Python versio is { version }\") # f function\n",
    "    \n",
    "if (__name__ == '__main__'): main()    "
   ]
  },
  {
   "cell_type": "markdown",
   "metadata": {},
   "source": [
    "**1.2 Blocks, Scope and condition**"
   ]
  },
  {
   "cell_type": "code",
   "execution_count": 37,
   "metadata": {},
   "outputs": [
    {
     "name": "stdout",
     "output_type": "stream",
     "text": [
      "z inside function = 100\n",
      "x < y where x is 10 and y is  20.\n",
      "x is less than y\n"
     ]
    }
   ],
   "source": [
    "z = 100\n",
    "\n",
    "def main():\n",
    "    x = 10\n",
    "    y = 20\n",
    "    print(\"z inside function = {}\".format(z))\n",
    "    if x == y:\n",
    "        print(\"x == y where x is {} and y is  {}.\".format(x,y))\n",
    "    elif x < y:\n",
    "        print(\"x < y where x is {} and y is  {}.\".format(x,y))\n",
    "    else:\n",
    "        print(\"x > y where x is {} and y is  {}.\".format(x,y))\n",
    "     # print('this is not indented. uncomment this line to see error.')   \n",
    "    \n",
    "    # ternary statement\n",
    "    r = \"x is less than y\" if x < y else \"x is greater or equal to the y\"\n",
    "    print(r)\n",
    "    \n",
    "    # No switch in python bcoz there is no need\n",
    "    \n",
    "if (__name__ == '__main__'): main()    "
   ]
  },
  {
   "cell_type": "markdown",
   "metadata": {},
   "source": [
    "**1.3 Loops**"
   ]
  },
  {
   "cell_type": "code",
   "execution_count": 49,
   "metadata": {},
   "outputs": [
    {
     "name": "stdout",
     "output_type": "stream",
     "text": [
      "char at index 0 is a\n",
      "char at index 1 is e\n",
      "char at index 2 is i\n",
      "char at index 3 is o\n",
      "char at index 4 is u\n",
      "a e i o u "
     ]
    }
   ],
   "source": [
    "# while loop\n",
    "chars = ['a', 'e', 'i', 'o', 'u']\n",
    "n = 0\n",
    "while(n < 5):\n",
    "    print('char at index {} is {}'.format(n,chars[n]))\n",
    "    n += 1\n",
    "    \n",
    "# for loop\n",
    "\n",
    "for char in chars:\n",
    "    print(char, end = ' ')"
   ]
  },
  {
   "cell_type": "code",
   "execution_count": 50,
   "metadata": {},
   "outputs": [
    {
     "name": "stdout",
     "output_type": "stream",
     "text": [
      "1 1 2 3 5 8 13 21 34 55 89 144 233 377 610 987 1597 2584 4181 6765 10946 17711 28657 46368 75025 "
     ]
    }
   ],
   "source": [
    "# Simple example of fibonacci series\n",
    "a,b = 0,1\n",
    "while b < 100000:\n",
    "    print(b, end = ' ', flush = True)\n",
    "    a, b = b, a+b"
   ]
  },
  {
   "cell_type": "markdown",
   "metadata": {},
   "source": [
    "**1.4 Functions**"
   ]
  },
  {
   "cell_type": "code",
   "execution_count": 55,
   "metadata": {},
   "outputs": [
    {
     "name": "stdout",
     "output_type": "stream",
     "text": [
      "This is a test function  and value of n is 1\n",
      "This is a test function  and value of n is 4\n",
      "8\n"
     ]
    }
   ],
   "source": [
    "# The function is defined with the D-E-F, def keyword that defines a function, then we have the name \n",
    "# of the function, and it will always have parenthesis, even if it does not take any arguments.\n",
    "\n",
    "def test(n = 1):\n",
    "    print('This is a test function  and value of n is {}'.format(n))\n",
    "    return n*2\n",
    "    \n",
    "test()\n",
    "x = test(4)\n",
    "print(x)\n"
   ]
  },
  {
   "cell_type": "code",
   "execution_count": 72,
   "metadata": {},
   "outputs": [
    {
     "name": "stdout",
     "output_type": "stream",
     "text": [
      "13 is prime =  True\n",
      "6 is prime =  False\n",
      "\n",
      "2 3 5 7 11 13 17 19 23 29 31 37 41 43 47 53 59 61 67 71 73 79 83 89 97 101 103 107 109 113 127 131 137 139 149 151 157 163 167 173 179 181 191 193 197 199 "
     ]
    }
   ],
   "source": [
    "# Prime checker function\n",
    "\n",
    "def isPrime(x):\n",
    "    if x <= 1:\n",
    "        return False\n",
    "    for n in range(2, x):\n",
    "        if x % n == 0:\n",
    "            return False\n",
    "    else:\n",
    "        return True\n",
    "    \n",
    "print('13 is prime =  {}'.format(isPrime(13)))    \n",
    "print('6 is prime =  {}'.format(isPrime(6)))    \n",
    "print() # end line\n",
    "\n",
    "# List of prime numbers\n",
    "def listPrime(endLimit = 100):\n",
    "    for number in range (1,endLimit):\n",
    "        if isPrime(number):\n",
    "            print(number, end = ' ', flush = True)\n",
    "            \n",
    "listPrime(200)"
   ]
  },
  {
   "cell_type": "markdown",
   "metadata": {},
   "source": [
    "**1.5 Objects**"
   ]
  },
  {
   "cell_type": "code",
   "execution_count": 78,
   "metadata": {},
   "outputs": [
    {
     "name": "stdout",
     "output_type": "stream",
     "text": [
      "quack quack...\n",
      "walks like a duck.\n"
     ]
    }
   ],
   "source": [
    "# defination of a class\n",
    "\n",
    "class Duck:\n",
    "    sound = 'quack quack...'\n",
    "    walking = 'walks like a duck.'\n",
    "    \n",
    "    # define two function quack and walk. The first argument for a method inside a class is self\n",
    "    def quack(self):\n",
    "        print(self.sound)\n",
    "    \n",
    "    def walk(self):\n",
    "        print(self.walking)\n",
    "        \n",
    "def main():\n",
    "    donald = Duck()\n",
    "    donald.quack()\n",
    "    donald.walk()\n",
    "\n",
    "if __name__ == '__main__':\n",
    "    main();"
   ]
  }
 ],
 "metadata": {
  "kernelspec": {
   "display_name": "Python 3",
   "language": "python",
   "name": "python3"
  },
  "language_info": {
   "codemirror_mode": {
    "name": "ipython",
    "version": 3
   },
   "file_extension": ".py",
   "mimetype": "text/x-python",
   "name": "python",
   "nbconvert_exporter": "python",
   "pygments_lexer": "ipython3",
   "version": "3.7.3"
  }
 },
 "nbformat": 4,
 "nbformat_minor": 2
}
