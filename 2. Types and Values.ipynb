{
 "cells": [
  {
   "cell_type": "markdown",
   "metadata": {},
   "source": [
    "# 2. Types and Values"
   ]
  },
  {
   "cell_type": "markdown",
   "metadata": {},
   "source": [
    "**A Simple Overvies**"
   ]
  },
  {
   "cell_type": "code",
   "execution_count": 1,
   "metadata": {},
   "outputs": [
    {
     "name": "stdout",
     "output_type": "stream",
     "text": [
      "7\n",
      "<class 'int'>\n",
      "7.0\n",
      "<class 'float'>\n",
      "String Type\n",
      "<class 'str'>\n",
      "None\n",
      "<class 'NoneType'>\n"
     ]
    }
   ],
   "source": [
    "x = 7 \n",
    "print(x)\n",
    "print(type(x))\n",
    "\n",
    "x = 7.0\n",
    "print(x)\n",
    "print(type(x))\n",
    "\n",
    "x = 'String Type'\n",
    "print(x)\n",
    "print(type(x))\n",
    "\n",
    "x = None\n",
    "print(x)\n",
    "print(type(x))\n",
    "\n",
    "# Python uses a form of dynamic typing sometimes called duck typing where the type of a value is \n",
    "# determined by the value itself"
   ]
  },
  {
   "cell_type": "markdown",
   "metadata": {},
   "source": [
    "**2.1 String**"
   ]
  },
  {
   "cell_type": "code",
   "execution_count": 2,
   "metadata": {},
   "outputs": [
    {
     "name": "stdout",
     "output_type": "stream",
     "text": [
      "x is Seven\n",
      "type of x is <class 'str'>\n",
      "\n",
      " this \n",
      " is \n",
      " a \n",
      " muiltiline\n",
      " string\n",
      "\n"
     ]
    }
   ],
   "source": [
    "# In Python 3, all types are classes, even the built-in types\n",
    "\n",
    "x = 'Seven' # string is wrapped in single quote marks and there is not difference in '' and \"\" but pick one and\n",
    "            # stick with it.\n",
    "print('x is {}'.format(x))\n",
    "print('type of x is {}'.format(type(x)))\n",
    "\n",
    "\n",
    "# Create a multi line string\n",
    "x = '''\n",
    " this \n",
    " is \n",
    " a \n",
    " muiltiline\n",
    " string\n",
    "'''\n",
    "print(x)\n",
    "\n",
    "x = 'seven'\n"
   ]
  },
  {
   "cell_type": "code",
   "execution_count": 3,
   "metadata": {},
   "outputs": [
    {
     "name": "stdout",
     "output_type": "stream",
     "text": [
      "Seven\n",
      "SEVEN\n",
      "8 , 9\n",
      "9 , 8\n",
      "9         ,         8\n",
      "\"9        \" \"        8\"\n",
      "900000000 \" \" 000000008\n",
      "this is exaple of f string 1, 2\n"
     ]
    }
   ],
   "source": [
    "# String are objects so we can run method of string class in this object\n",
    "\n",
    "print(x.capitalize())\n",
    "print(x.upper())\n",
    "print('{} , {}'.format(8,9))\n",
    "print('{1} , {0}'.format(8,9))\n",
    "print('{1:<9} , {0:>9}'.format(8,9))\n",
    "print('\"{1:<9}\" \"{0:>9}\"'.format(8,9))\n",
    "print('{1:<09} \" \" {0:>09}'.format(8,9))\n",
    "\n",
    "a,b = 1,2\n",
    "x = f'this is exaple of f string {a}, {b}' # this will work in 3.6 or above\n",
    "print(x)"
   ]
  },
  {
   "cell_type": "markdown",
   "metadata": {},
   "source": [
    "**2.2 Numeric Types**"
   ]
  },
  {
   "cell_type": "code",
   "execution_count": 4,
   "metadata": {},
   "outputs": [
    {
     "name": "stdout",
     "output_type": "stream",
     "text": [
      "value of x is 7\n",
      "<class 'int'>\n",
      "\n"
     ]
    }
   ],
   "source": [
    "# First is integer type\n",
    "x = 7\n",
    "print('value of x is {}'.format(x))\n",
    "print(type(x))\n",
    "print()"
   ]
  },
  {
   "cell_type": "code",
   "execution_count": 5,
   "metadata": {},
   "outputs": [
    {
     "name": "stdout",
     "output_type": "stream",
     "text": [
      "value of x is 14\n",
      "<class 'int'>\n",
      "\n"
     ]
    }
   ],
   "source": [
    "x = 7 * 2\n",
    "print('value of x is {}'.format(x))\n",
    "print(type(x))\n",
    "print()\n"
   ]
  },
  {
   "cell_type": "code",
   "execution_count": 6,
   "metadata": {},
   "outputs": [
    {
     "name": "stdout",
     "output_type": "stream",
     "text": [
      "value of x is 1.4000000000000001\n",
      "<class 'float'>\n",
      "\n"
     ]
    }
   ],
   "source": [
    "x = 7 * .2\n",
    "print('value of x is {}'.format(x))\n",
    "print(type(x))\n",
    "print()\n"
   ]
  },
  {
   "cell_type": "code",
   "execution_count": 7,
   "metadata": {},
   "outputs": [
    {
     "name": "stdout",
     "output_type": "stream",
     "text": [
      "value of x is 3.5\n",
      "<class 'float'>\n",
      "\n"
     ]
    }
   ],
   "source": [
    "x = 7/2\n",
    "print('value of x is {}'.format(x))\n",
    "print(type(x))\n",
    "print()\n"
   ]
  },
  {
   "cell_type": "code",
   "execution_count": 8,
   "metadata": {},
   "outputs": [
    {
     "name": "stdout",
     "output_type": "stream",
     "text": [
      "value of x is 3\n",
      "<class 'int'>\n",
      "\n",
      "value of x is 1\n",
      "<class 'int'>\n",
      "\n"
     ]
    }
   ],
   "source": [
    "x = 7//2\n",
    "print('value of x is {}'.format(x))\n",
    "print(type(x))\n",
    "print()\n",
    "\n",
    "x = 7%2\n",
    "print('value of x is {}'.format(x))\n",
    "print(type(x))\n",
    "print()"
   ]
  },
  {
   "cell_type": "code",
   "execution_count": 9,
   "metadata": {},
   "outputs": [
    {
     "name": "stdout",
     "output_type": "stream",
     "text": [
      "result = 5.551115123125783e-17\n"
     ]
    }
   ],
   "source": [
    "# there is a problem float. Dont use this for money \n",
    "x = .1 + .1 + .1 - .3\n",
    "print('result = {}'.format(x))"
   ]
  },
  {
   "cell_type": "code",
   "execution_count": 10,
   "metadata": {},
   "outputs": [
    {
     "name": "stdout",
     "output_type": "stream",
     "text": [
      "value of x is 0.0\n",
      "class of x is <class 'decimal.Decimal'>\n"
     ]
    }
   ],
   "source": [
    "# Solution of the problem is use decimal instead of float if you want accuracy over precision\n",
    "\n",
    "from decimal import *\n",
    "a = Decimal('.1')\n",
    "b = Decimal('.2')\n",
    "c = Decimal('.3') # use '' or \"\"\n",
    "x = a + b -c\n",
    "print('value of x is {}'.format(x))\n",
    "print('class of x is {}'.format(type(x)))"
   ]
  },
  {
   "cell_type": "markdown",
   "metadata": {},
   "source": [
    "**2.3 Bool Type**"
   ]
  },
  {
   "cell_type": "code",
   "execution_count": 11,
   "metadata": {},
   "outputs": [
    {
     "name": "stdout",
     "output_type": "stream",
     "text": [
      "value is True\n",
      "class is <class 'bool'>\n"
     ]
    }
   ],
   "source": [
    "x = True\n",
    "\n",
    "print('value is {}'.format(x))\n",
    "print('class is {}'.format(type(x)))"
   ]
  },
  {
   "cell_type": "code",
   "execution_count": 12,
   "metadata": {},
   "outputs": [
    {
     "name": "stdout",
     "output_type": "stream",
     "text": [
      "value is True\n",
      "class is <class 'bool'>\n"
     ]
    }
   ],
   "source": [
    "x = 5 < 6\n",
    "\n",
    "print('value is {}'.format(x))\n",
    "print('class is {}'.format(type(x)))"
   ]
  },
  {
   "cell_type": "code",
   "execution_count": 13,
   "metadata": {},
   "outputs": [
    {
     "name": "stdout",
     "output_type": "stream",
     "text": [
      "False\n",
      "False\n",
      "False\n"
     ]
    }
   ],
   "source": [
    "# There is another type which is None the the only possible value for it is none\n",
    "\n",
    "a = None\n",
    "if a:\n",
    "    print(\"True\")\n",
    "else:\n",
    "    print(\"False\")\n",
    "    \n",
    "a = ''\n",
    "if a:\n",
    "    print(\"True\")\n",
    "else:\n",
    "    print(\"False\")\n",
    "    \n",
    "a = 0\n",
    "if a:\n",
    "    print(\"True\")\n",
    "else:\n",
    "    print(\"False\")"
   ]
  },
  {
   "cell_type": "markdown",
   "metadata": {},
   "source": [
    "**2.4 Sequence Type**"
   ]
  },
  {
   "cell_type": "code",
   "execution_count": 14,
   "metadata": {},
   "outputs": [
    {
     "name": "stdout",
     "output_type": "stream",
     "text": [
      "1 2 3 4 5 \n",
      "1 2 3 4 5 "
     ]
    }
   ],
   "source": [
    "x = [1, 2, 3, 4, 5]\n",
    "\n",
    "for i in x:\n",
    "    print(i, end = ' ', flush = True)\n",
    "print()\n",
    "# A tuple is exactly like a list, only it's immutable\n",
    "x = (1, 2, 3, 4, 5) \n",
    "\n",
    "# uncomment next line and get an error\n",
    "# x[3] = 21\n",
    "for i in x:\n",
    "    print(i, end = ' ', flush = True)"
   ]
  },
  {
   "cell_type": "code",
   "execution_count": 15,
   "metadata": {},
   "outputs": [
    {
     "name": "stdout",
     "output_type": "stream",
     "text": [
      "1 2 3 4 \n",
      "0 1 2 3 4 \n",
      "4 6 8 10 12 14 16 18 "
     ]
    }
   ],
   "source": [
    "# Create a sequenc using range function\n",
    "\n",
    "x = range(1, 5)\n",
    "for i in x:\n",
    "    print(i, end=' ')\n",
    "print()\n",
    "\n",
    "x = range(5)\n",
    "for i in x:\n",
    "    print(i, end=' ')\n",
    "print()\n",
    "\n",
    "start = 4\n",
    "end = 20\n",
    "step = 2\n",
    "x = range(start, end, step)\n",
    "\n",
    "# uncomment this line and get an error\n",
    "# x[2] = 42\n",
    "for i in x:\n",
    "    print(i, end=' ')\n",
    "    \n",
    "# Crate a mutable list\n",
    "x = list(range(1,4))"
   ]
  },
  {
   "cell_type": "code",
   "execution_count": 16,
   "metadata": {},
   "outputs": [
    {
     "name": "stdout",
     "output_type": "stream",
     "text": [
      "key : one and value : 1\n",
      "key : two and value : 2\n",
      "key : three and value : 3\n",
      "key : four and value : 4\n",
      "3\n"
     ]
    }
   ],
   "source": [
    "# Create a dictionary, is a searchable sequence of key value pairs.\n",
    "# dictionary is mutable\n",
    "\n",
    "dis = {'one' : 1, 'two' : 2, 'three' : 3, 'four' : 4}\n",
    "for i,j in dis.items():\n",
    "    print('key : {} and value : {}'.format(i,j))\n",
    "    \n",
    "print(dis['three'])"
   ]
  },
  {
   "cell_type": "markdown",
   "metadata": {},
   "source": [
    "**2.5 tpye() and id()**"
   ]
  },
  {
   "cell_type": "code",
   "execution_count": 17,
   "metadata": {},
   "outputs": [
    {
     "name": "stdout",
     "output_type": "stream",
     "text": [
      "x is (1, 2.0, 'three', [4, 'five'])\n",
      "<class 'tuple'>\n",
      "<class 'str'>\n",
      "<class 'list'>\n"
     ]
    }
   ],
   "source": [
    "x = (1, 2.0, 'three', [4, 'five'])\n",
    "\n",
    "print('x is {}'.format(x))\n",
    "print(type(x))\n",
    "print(type(x[2]))\n",
    "print(type(x[3]))"
   ]
  },
  {
   "cell_type": "code",
   "execution_count": 18,
   "metadata": {},
   "outputs": [
    {
     "name": "stdout",
     "output_type": "stream",
     "text": [
      "4565495144\n",
      "4565676304\n",
      "4565616264\n"
     ]
    }
   ],
   "source": [
    "# id function return unique numebr for each object\n",
    "\n",
    "print(id(x))\n",
    "print(id(x[2]))\n",
    "print(id(x[3]))"
   ]
  },
  {
   "cell_type": "code",
   "execution_count": null,
   "metadata": {},
   "outputs": [],
   "source": []
  }
 ],
 "metadata": {
  "kernelspec": {
   "display_name": "Python 3",
   "language": "python",
   "name": "python3"
  },
  "language_info": {
   "codemirror_mode": {
    "name": "ipython",
    "version": 3
   },
   "file_extension": ".py",
   "mimetype": "text/x-python",
   "name": "python",
   "nbconvert_exporter": "python",
   "pygments_lexer": "ipython3",
   "version": "3.7.3"
  }
 },
 "nbformat": 4,
 "nbformat_minor": 2
}
