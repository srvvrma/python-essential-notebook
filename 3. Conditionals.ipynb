{
 "cells": [
  {
   "cell_type": "markdown",
   "metadata": {},
   "source": [
    "# 3 Conditionals"
   ]
  },
  {
   "cell_type": "markdown",
   "metadata": {},
   "source": [
    "**3.1 Conditional statements**"
   ]
  },
  {
   "cell_type": "code",
   "execution_count": 2,
   "metadata": {},
   "outputs": [
    {
     "name": "stdout",
     "output_type": "stream",
     "text": [
      "if true\n"
     ]
    }
   ],
   "source": [
    "# Conditional statements\n",
    "if True:\n",
    "    print('if true')\n",
    "elif False:\n",
    "    print('elif True')\n",
    "else:\n",
    "    print('else True')"
   ]
  },
  {
   "cell_type": "code",
   "execution_count": 5,
   "metadata": {},
   "outputs": [
    {
     "name": "stdout",
     "output_type": "stream",
     "text": [
      "x is 2\n"
     ]
    }
   ],
   "source": [
    "# Conditional statements\n",
    "x = 2\n",
    "if x == 0:\n",
    "    print('x is 0')\n",
    "elif x == 1:\n",
    "    print('x is 1')\n",
    "elif x == 2:\n",
    "    print('x is 2')\n",
    "else:\n",
    "    print('else True')"
   ]
  },
  {
   "cell_type": "code",
   "execution_count": 10,
   "metadata": {},
   "outputs": [],
   "source": [
    "### Conditional Operator ###\n",
    "\n",
    "# ==                a == b             equal\n",
    "# !=                a != b             not equal\n",
    "# <                 a <  b             less than\n",
    "# >                 a > b              greater than\n",
    "# <=                a <= b             less than equal to\n",
    "# >=                a >= b             greater than equal to\n"
   ]
  },
  {
   "cell_type": "markdown",
   "metadata": {},
   "source": [
    "**3.2 logical operator**"
   ]
  },
  {
   "cell_type": "code",
   "execution_count": 8,
   "metadata": {},
   "outputs": [],
   "source": [
    "### logical operator\n",
    "\n",
    "# and , or, ot"
   ]
  },
  {
   "cell_type": "code",
   "execution_count": 9,
   "metadata": {},
   "outputs": [],
   "source": [
    "## Identiti Operator\n",
    "\n",
    "# in  True if x is member of collection y\n",
    "# in not True if x is not member of collection y\n"
   ]
  },
  {
   "cell_type": "markdown",
   "metadata": {},
   "source": [
    "**3.3 Conditional Assignment**"
   ]
  },
  {
   "cell_type": "code",
   "execution_count": 11,
   "metadata": {},
   "outputs": [
    {
     "name": "stdout",
     "output_type": "stream",
     "text": [
      "Feed the bear now\n"
     ]
    }
   ],
   "source": [
    "hungry = True\n",
    "x = \"Feed the bear now\" if hungry else \"Dont fee the bear now\"\n",
    "\n",
    "print(x)"
   ]
  }
 ],
 "metadata": {
  "kernelspec": {
   "display_name": "Python 3",
   "language": "python",
   "name": "python3"
  },
  "language_info": {
   "codemirror_mode": {
    "name": "ipython",
    "version": 3
   },
   "file_extension": ".py",
   "mimetype": "text/x-python",
   "name": "python",
   "nbconvert_exporter": "python",
   "pygments_lexer": "ipython3",
   "version": "3.7.3"
  }
 },
 "nbformat": 4,
 "nbformat_minor": 2
}
