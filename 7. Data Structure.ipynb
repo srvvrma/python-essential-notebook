{
 "cells": [
  {
   "cell_type": "markdown",
   "metadata": {},
   "source": [
    "# 7. Data Structure"
   ]
  },
  {
   "cell_type": "markdown",
   "metadata": {},
   "source": [
    "**7.1 List and Tuples**"
   ]
  },
  {
   "cell_type": "code",
   "execution_count": 8,
   "metadata": {},
   "outputs": [
    {
     "name": "stdout",
     "output_type": "stream",
     "text": [
      "Rock\n",
      "['Rock', 'Scissors', 'Spock']\n",
      "1\n",
      "Computer Rock Paper Scissors Lizard \n"
     ]
    }
   ],
   "source": [
    "# Lists are mutable and tuples are not.\n",
    "\n",
    "def main():\n",
    "    game = [ 'Rock', 'Paper', 'Scissors', 'Lizard', 'Spock' ]\n",
    "    print(game[0])\n",
    "    print(game[0:5:2])\n",
    "    print(game.index('Paper'))\n",
    "    game.insert(0, 'Computer') # insert a value\n",
    "    game.pop() # remove the last value and alos return it\n",
    "    print_list(game)\n",
    "\n",
    "def print_list(o):\n",
    "    for i in o: print(i, end=' ', flush=True)\n",
    "    print()\n",
    "\n",
    "if __name__ == '__main__': main()\n"
   ]
  },
  {
   "cell_type": "markdown",
   "metadata": {},
   "source": [
    "**7.2 Dictionary**"
   ]
  },
  {
   "cell_type": "code",
   "execution_count": 14,
   "metadata": {},
   "outputs": [
    {
     "name": "stdout",
     "output_type": "stream",
     "text": [
      "True\n",
      "kitten meow\n",
      "puppy ruff!\n",
      "lion I am lion.\n",
      "giraffe I am a giraffe!\n",
      "dragon rawr\n",
      "meow\n",
      "ruff!\n",
      "I am lion.\n",
      "I am a giraffe!\n",
      "rawr\n"
     ]
    }
   ],
   "source": [
    "def main():\n",
    "    animals = { 'kitten': 'meow', 'puppy': 'ruff!', 'lion': 'grrr',\n",
    "        'giraffe': 'I am a giraffe!', 'dragon': 'rawr' }\n",
    "    #print_dict(animals)\n",
    "    animals['lion'] = 'I am lion.'\n",
    "    \n",
    "    print('lion' in animals)\n",
    "    \n",
    "    for k, v in animals.items():\n",
    "        print(f'{k} {v}')\n",
    "    \n",
    "    for value in animals.values():\n",
    "        print(f'{value}')\n",
    "    \n",
    "\n",
    "def print_dict(o):\n",
    "    for x in o: print(f'{x}: {o[x]}')\n",
    "\n",
    "if __name__ == '__main__': main()\n"
   ]
  },
  {
   "cell_type": "markdown",
   "metadata": {},
   "source": [
    "**7.3 Set**"
   ]
  },
  {
   "cell_type": "code",
   "execution_count": 17,
   "metadata": {},
   "outputs": [
    {
     "name": "stdout",
     "output_type": "stream",
     "text": [
      "{ '.Wabdeginort}\n",
      "{vynfih'ad.r ImDotecs,}\n"
     ]
    }
   ],
   "source": [
    "# unique element\n",
    "def main():\n",
    "    a = set(\"We're gonna need a bigger boat.\")\n",
    "    b = set(\"I'm sorry, Dave. I'm afraid I can't do that.\")\n",
    "    print_set(sorted(a))\n",
    "    print_set(b)\n",
    "\n",
    "def print_set(o):\n",
    "    print('{', end = '')\n",
    "    for x in o: print(x, end = '')\n",
    "    print('}')\n",
    "\n",
    "if __name__ == '__main__': main()"
   ]
  },
  {
   "cell_type": "markdown",
   "metadata": {},
   "source": [
    "**7.4 List Comprehension**"
   ]
  },
  {
   "cell_type": "code",
   "execution_count": 23,
   "metadata": {},
   "outputs": [
    {
     "name": "stdout",
     "output_type": "stream",
     "text": [
      "0 1 2 3 4 5 6 7 8 9 10 \n",
      "0 2 4 6 8 10 12 14 16 18 20 \n",
      "1 3 5 7 9 \n",
      "(1, 1) (3, 9) (5, 25) (7, 49) (9, 81) \n"
     ]
    }
   ],
   "source": [
    "def main():\n",
    "    seq = range(11)\n",
    "    seq2 = [x * 2 for x in seq]\n",
    "    seq3 = [x for x in seq if x % 2 != 0]\n",
    "    seq4 = [(x, x**2) for x in seq if x % 2 != 0]\n",
    "    print_list(seq)\n",
    "    print_list(seq2)\n",
    "    print_list(seq3)\n",
    "    print_list(seq4)\n",
    "\n",
    "def print_list(o):\n",
    "    for x in o: print(x, end = ' ')\n",
    "    print()\n",
    "\n",
    "if __name__ == '__main__': main()"
   ]
  },
  {
   "cell_type": "markdown",
   "metadata": {},
   "source": [
    "**7.5 Mixed**"
   ]
  },
  {
   "cell_type": "code",
   "execution_count": 24,
   "metadata": {},
   "outputs": [
    {
     "name": "stdout",
     "output_type": "stream",
     "text": [
      "[ [ 1 'two' 3 { 4: 'four' } 5 ] \n",
      "[ 0 1 2 3 4 5 6 7 8 9 10 ] \n",
      "{ ' ' '!' \"'\" 'I' 'S' 'a' 'b' 'd' 'e' 'i' 'l' 'm' 'n' 'p' 'r' 's' 't' 'u' } \n",
      "{ one: [ 0 1 2 3 4 5 6 7 8 9 10 ] two: [ 1 'two' 3 { 4: 'four' } 5 ] three: { ' ' '!' \"'\" 'I' 'S' 'a' 'b' 'd' 'e' 'i' 'l' 'm' 'n' 'p' 'r' 's' 't' 'u' } } \n",
      "( 'one' 'two' Nada 'four' 'five' ) \n",
      "] \n"
     ]
    }
   ],
   "source": [
    "# globals\n",
    "dlevel = 0 # manage nesting level\n",
    "\n",
    "def main():\n",
    "    r = range(11)\n",
    "    l = [ 1, 'two', 3, {'4': 'four' }, 5 ]\n",
    "    t = ( 'one', 'two', None, 'four', 'five' )\n",
    "    s = set(\"It's a bird! It's a plane! It's Superman!\")\n",
    "    d = dict( one = r, two = l, three = s )\n",
    "    mixed = [ l, r, s, d, t ]\n",
    "    disp(mixed)\n",
    "\n",
    "def disp(o):\n",
    "    global dlevel\n",
    "\n",
    "    dlevel += 1\n",
    "    if   isinstance(o, list):  print_list(o)\n",
    "    elif isinstance(o, range): print_list(o)\n",
    "    elif isinstance(o, tuple): print_tuple(o)\n",
    "    elif isinstance(o, set):   print_set(o)\n",
    "    elif isinstance(o, dict):  print_dict(o)\n",
    "    elif o is None: print('Nada', end=' ', flush=True)\n",
    "    else: print(repr(o), end=' ', flush=True)\n",
    "    dlevel -= 1\n",
    "\n",
    "    if dlevel <= 1: print() # newline after outer\n",
    "\n",
    "def print_list(o):\n",
    "    print('[', end=' ')\n",
    "    for x in o: disp(x)\n",
    "    print(']', end=' ', flush=True)\n",
    "\n",
    "def print_tuple(o):\n",
    "    print('(', end=' ')\n",
    "    for x in o: disp(x)\n",
    "    print(')', end=' ', flush=True)\n",
    "\n",
    "def print_set(o):\n",
    "    print('{', end=' ')\n",
    "    for x in sorted(o): disp(x)\n",
    "    print('}', end=' ', flush=True)\n",
    "\n",
    "def print_dict(o):\n",
    "    print('{', end=' ')\n",
    "    for k, v in o.items():\n",
    "        print(k, end=': ' )\n",
    "        disp(v)\n",
    "    print('}', end=' ', flush=True)\n",
    "\n",
    "if __name__ == '__main__': main()\n"
   ]
  }
 ],
 "metadata": {
  "kernelspec": {
   "display_name": "Python 3",
   "language": "python",
   "name": "python3"
  },
  "language_info": {
   "codemirror_mode": {
    "name": "ipython",
    "version": 3
   },
   "file_extension": ".py",
   "mimetype": "text/x-python",
   "name": "python",
   "nbconvert_exporter": "python",
   "pygments_lexer": "ipython3",
   "version": "3.7.3"
  }
 },
 "nbformat": 4,
 "nbformat_minor": 2
}
