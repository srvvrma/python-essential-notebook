{
 "cells": [
  {
   "cell_type": "markdown",
   "metadata": {},
   "source": [
    "# 5. Loops"
   ]
  },
  {
   "cell_type": "markdown",
   "metadata": {},
   "source": [
    "**5.1 While Loops**"
   ]
  },
  {
   "cell_type": "code",
   "execution_count": 3,
   "metadata": {},
   "outputs": [
    {
     "name": "stdout",
     "output_type": "stream",
     "text": [
      "value of n is 0\n",
      "value of n is 1\n",
      "value of n is 2\n",
      "value of n is 3\n",
      "value of n is 4\n"
     ]
    }
   ],
   "source": [
    "n = 0\n",
    "while n < 5:\n",
    "    print('value of n is {}'.format(n))\n",
    "    n = n +  1"
   ]
  },
  {
   "cell_type": "code",
   "execution_count": 7,
   "metadata": {},
   "outputs": [
    {
     "name": "stdout",
     "output_type": "stream",
     "text": [
      "Please type password.pasadsa\n",
      "Please type password.password\n"
     ]
    }
   ],
   "source": [
    "password = 'password'\n",
    "inputPassword = ''\n",
    "\n",
    "while password != inputPassword:\n",
    "    inputPassword = input(\"Please type password.\")"
   ]
  },
  {
   "cell_type": "markdown",
   "metadata": {},
   "source": [
    "**5.2 For Loop**"
   ]
  },
  {
   "cell_type": "code",
   "execution_count": 9,
   "metadata": {},
   "outputs": [
    {
     "name": "stdout",
     "output_type": "stream",
     "text": [
      "0 1 2 3 4 5 6 7 8 9 "
     ]
    }
   ],
   "source": [
    "x  = range(10);\n",
    "\n",
    "for i in x:\n",
    "    print(i, end= ' ',flush= True)"
   ]
  },
  {
   "cell_type": "markdown",
   "metadata": {},
   "source": [
    "**5.3 Loop controls**"
   ]
  },
  {
   "cell_type": "code",
   "execution_count": 14,
   "metadata": {},
   "outputs": [
    {
     "name": "stdout",
     "output_type": "stream",
     "text": [
      "1 3 5 7 9 11 13 15 17 19 \n",
      "1 2 3 4 5 6 7 8 9 10 "
     ]
    }
   ],
   "source": [
    "# continue\n",
    "\n",
    "for i in range(1,20):\n",
    "    if i % 2 == 0:\n",
    "        continue\n",
    "    else:\n",
    "        print(i, end=' ',flush=True)\n",
    "\n",
    "print()        \n",
    "for i in range(1,20):\n",
    "    if i > 10:\n",
    "        break\n",
    "    else:\n",
    "        print(i, end=' ',flush=True)"
   ]
  },
  {
   "cell_type": "code",
   "execution_count": 17,
   "metadata": {},
   "outputs": [
    {
     "name": "stdout",
     "output_type": "stream",
     "text": [
      "Please type password.password\n",
      "loop ends normal\n"
     ]
    }
   ],
   "source": [
    "password = 'password'\n",
    "inputPassword = ''\n",
    "maxAttempt = 5\n",
    "attempt = 0;\n",
    "while password != inputPassword:\n",
    "    if attempt >= maxAttempt: break \n",
    "    inputPassword = input(\"Please type password.\")\n",
    "    attempt += 1\n",
    "else:\n",
    "    print('if loop ends normal.')"
   ]
  }
 ],
 "metadata": {
  "kernelspec": {
   "display_name": "Python 3",
   "language": "python",
   "name": "python3"
  },
  "language_info": {
   "codemirror_mode": {
    "name": "ipython",
    "version": 3
   },
   "file_extension": ".py",
   "mimetype": "text/x-python",
   "name": "python",
   "nbconvert_exporter": "python",
   "pygments_lexer": "ipython3",
   "version": "3.7.3"
  }
 },
 "nbformat": 4,
 "nbformat_minor": 2
}
