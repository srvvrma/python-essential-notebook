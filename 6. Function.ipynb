{
 "cells": [
  {
   "cell_type": "markdown",
   "metadata": {},
   "source": [
    "# 6. Function"
   ]
  },
  {
   "cell_type": "markdown",
   "metadata": {},
   "source": [
    "**6.1 defining a function**"
   ]
  },
  {
   "cell_type": "code",
   "execution_count": 1,
   "metadata": {},
   "outputs": [
    {
     "name": "stdout",
     "output_type": "stream",
     "text": [
      "5 Meow...\n"
     ]
    }
   ],
   "source": [
    "# define a function\n",
    "\n",
    "def main():\n",
    "    kitten(5)\n",
    "\n",
    "def kitten(n):\n",
    "    print(f'{n} Meow...')\n",
    "\n",
    "if __name__ == '__main__': main()"
   ]
  },
  {
   "cell_type": "markdown",
   "metadata": {},
   "source": [
    "**6.2 Function Arguments**"
   ]
  },
  {
   "cell_type": "code",
   "execution_count": 2,
   "metadata": {},
   "outputs": [
    {
     "name": "stdout",
     "output_type": "stream",
     "text": [
      "5 1 Meow...\n",
      "5 1 Meow...\n"
     ]
    }
   ],
   "source": [
    "# define a function\n",
    "\n",
    "def main():\n",
    "    kitten1(5) # b default value 1\n",
    "    kitten1(5) \n",
    "\n",
    "def kitten(n):\n",
    "    print(f'{n} Meow...')\n",
    "    \n",
    "def kitten1(a,b=1):\n",
    "    print(f'{a} {b} Meow...')    \n",
    "\n",
    "# Uncomment for error\n",
    "#def kitten2(a,b=1,c):\n",
    "#    print(f'{a} {b} Meow...')      \n",
    "    \n",
    "if __name__ == '__main__': main()"
   ]
  },
  {
   "cell_type": "markdown",
   "metadata": {},
   "source": [
    "**6.3 Argument List**"
   ]
  },
  {
   "cell_type": "code",
   "execution_count": 3,
   "metadata": {},
   "outputs": [
    {
     "name": "stdout",
     "output_type": "stream",
     "text": [
      "type of x is <class 'tuple'>\n",
      "[0, 1, 2, 3, 4, 5, 6, 7, 8, 9] "
     ]
    }
   ],
   "source": [
    "def argListFunction(*args):\n",
    "    print('type of x is {}'.format(type(args)))\n",
    "    for i in args:\n",
    "        print(i,end = ' ',flush=True)\n",
    "\n",
    "argListFunction(list(range(10)))"
   ]
  },
  {
   "cell_type": "markdown",
   "metadata": {},
   "source": [
    "**6.4 Keyword Arguments**"
   ]
  },
  {
   "cell_type": "code",
   "execution_count": 4,
   "metadata": {},
   "outputs": [
    {
     "name": "stdout",
     "output_type": "stream",
     "text": [
      "type of x is <class 'dict'>\n",
      "one two "
     ]
    }
   ],
   "source": [
    "def argListFunction(**args):\n",
    "    print('type of x is {}'.format(type(args)))\n",
    "    for i in args:\n",
    "        print(i,end = ' ',flush=True)\n",
    "\n",
    "argListFunction(one= 1, two = 2)"
   ]
  },
  {
   "cell_type": "markdown",
   "metadata": {},
   "source": [
    "**6.5 Return value**"
   ]
  },
  {
   "cell_type": "code",
   "execution_count": 5,
   "metadata": {},
   "outputs": [
    {
     "data": {
      "text/plain": [
       "33"
      ]
     },
     "execution_count": 5,
     "metadata": {},
     "output_type": "execute_result"
    }
   ],
   "source": [
    "def sumUp(*args):\n",
    "    total = 0\n",
    "    for i in args:\n",
    "        total +=i\n",
    "    return total\n",
    "\n",
    "sumUp(1,2,4,5,6,7,8)"
   ]
  },
  {
   "cell_type": "markdown",
   "metadata": {},
   "source": [
    "**6.6 Generator**"
   ]
  },
  {
   "cell_type": "code",
   "execution_count": 6,
   "metadata": {},
   "outputs": [
    {
     "name": "stdout",
     "output_type": "stream",
     "text": [
      "2 4 6 8 10 12 14 16 18 "
     ]
    }
   ],
   "source": [
    "def evenNumberGen(n =2):\n",
    "    for i in range(n):\n",
    "        if i == 0: continue\n",
    "        elif i % 2 == 0: yield i\n",
    "\n",
    "for i in evenNumberGen(20):\n",
    "    print(i,end= ' ',flush=True)\n",
    "        "
   ]
  },
  {
   "cell_type": "markdown",
   "metadata": {},
   "source": [
    "**6.7 Decorators**"
   ]
  },
  {
   "cell_type": "code",
   "execution_count": 7,
   "metadata": {},
   "outputs": [
    {
     "name": "stdout",
     "output_type": "stream",
     "text": [
      "this is a test function\n"
     ]
    }
   ],
   "source": [
    "def test():\n",
    "    print('this is a test function')\n",
    "\n",
    "x = test\n",
    "x()"
   ]
  },
  {
   "cell_type": "code",
   "execution_count": 8,
   "metadata": {},
   "outputs": [
    {
     "name": "stdout",
     "output_type": "stream",
     "text": [
      "inside test 2 start\n",
      "this is function test3\n",
      "inside test 2 end\n"
     ]
    }
   ],
   "source": [
    "def test1(f):\n",
    "    def test2():\n",
    "        print('inside test 2 start')\n",
    "        f()\n",
    "        print('inside test 2 end')\n",
    "    return test2\n",
    "\n",
    "def test3():\n",
    "    print('this is function test3')\n",
    "\n",
    "t = test1(test3)\n",
    "t()"
   ]
  },
  {
   "cell_type": "code",
   "execution_count": 9,
   "metadata": {},
   "outputs": [
    {
     "name": "stdout",
     "output_type": "stream",
     "text": [
      "inside test 2 start\n",
      "this is function test3\n",
      "inside test 2 end\n"
     ]
    }
   ],
   "source": [
    "def test1(f):\n",
    "    def test2():\n",
    "        print('inside test 2 start')\n",
    "        f()\n",
    "        print('inside test 2 end')\n",
    "    return test2\n",
    "\n",
    "@test1\n",
    "def test3():\n",
    "    print('this is function test3')\n",
    "\n",
    "test3()"
   ]
  }
 ],
 "metadata": {
  "kernelspec": {
   "display_name": "Python 3",
   "language": "python",
   "name": "python3"
  },
  "language_info": {
   "codemirror_mode": {
    "name": "ipython",
    "version": 3
   },
   "file_extension": ".py",
   "mimetype": "text/x-python",
   "name": "python",
   "nbconvert_exporter": "python",
   "pygments_lexer": "ipython3",
   "version": "3.7.3"
  }
 },
 "nbformat": 4,
 "nbformat_minor": 2
}
